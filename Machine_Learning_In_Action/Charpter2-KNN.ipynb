{
 "cells": [
  {
   "cell_type": "markdown",
   "metadata": {},
   "source": [
    "# K-近邻算法"
   ]
  },
  {
   "cell_type": "markdown",
   "metadata": {
    "toc": true
   },
   "source": [
    "<h1>Table of Contents<span class=\"tocSkip\"></span></h1>\n",
    "<div class=\"toc\"><ul class=\"toc-item\"></ul></div>"
   ]
  },
  {
   "cell_type": "markdown",
   "metadata": {},
   "source": [
    "以电影类型分类为例，我们可以明确每部电影在风格上会同相同题材的电影相近。例如动作片之间有什么共同的特征，这个特征又和爱情片之间存在明显的差异呢？\n",
    "\n",
    "我们可以使用电影中打斗次数和接吻次数，使用KNN算法自动划分电影题材。\n",
    "\n",
    "> KNN算法优缺点：\n",
    "\n",
    "+ 优点：精度高、对异常值不敏感、无输入数据假定。\n",
    "+ 缺点：计算复杂度高、空间复杂度高。\n",
    "+ 适用数据范围：数值型和标称型。\n",
    "\n",
    "> 假设数据情况如下：\n",
    "\n",
    "|电影名称|打斗镜头|接吻镜头|电影类型|\n",
    "|:-|:-:|:-:|:-:|\n",
    "|*California Man*|3|104|爱情片|\n",
    "|*He's Not Really into Dudes*|2|100|爱情片|\n",
    "|*Beautiful Woman*|1|81|爱情片|\n",
    "|*Kevin Longblade*|101|10|动作片|\n",
    "|*Robo Slayer 3000*|99|5|动作片|\n",
    "|*Amped II*|98|2|动作片|\n",
    "|*?*|18|90|*未知*|"
   ]
  },
  {
   "cell_type": "code",
   "execution_count": null,
   "metadata": {},
   "outputs": [],
   "source": []
  }
 ],
 "metadata": {
  "kernelspec": {
   "display_name": "Python 3.8.1 64-bit",
   "language": "python",
   "name": "python38164bite5fe43bacf6f47aeb3faa90b88476768"
  },
  "language_info": {
   "codemirror_mode": {
    "name": "ipython",
    "version": 3
   },
   "file_extension": ".py",
   "mimetype": "text/x-python",
   "name": "python",
   "nbconvert_exporter": "python",
   "pygments_lexer": "ipython3",
   "version": "3.8.1"
  },
  "toc": {
   "base_numbering": 1,
   "nav_menu": {},
   "number_sections": true,
   "sideBar": true,
   "skip_h1_title": true,
   "title_cell": "Table of Contents",
   "title_sidebar": "Contents",
   "toc_cell": true,
   "toc_position": {},
   "toc_section_display": true,
   "toc_window_display": false
  },
  "varInspector": {
   "cols": {
    "lenName": 16,
    "lenType": 16,
    "lenVar": 40
   },
   "kernels_config": {
    "python": {
     "delete_cmd_postfix": "",
     "delete_cmd_prefix": "del ",
     "library": "var_list.py",
     "varRefreshCmd": "print(var_dic_list())"
    },
    "r": {
     "delete_cmd_postfix": ") ",
     "delete_cmd_prefix": "rm(",
     "library": "var_list.r",
     "varRefreshCmd": "cat(var_dic_list()) "
    }
   },
   "types_to_exclude": [
    "module",
    "function",
    "builtin_function_or_method",
    "instance",
    "_Feature"
   ],
   "window_display": false
  }
 },
 "nbformat": 4,
 "nbformat_minor": 2
}

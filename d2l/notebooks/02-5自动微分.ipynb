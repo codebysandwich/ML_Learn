{
 "cells": [
  {
   "cell_type": "markdown",
   "id": "73bc128f",
   "metadata": {},
   "source": [
    "# 自动微分"
   ]
  },
  {
   "cell_type": "markdown",
   "id": "2e2d41eb",
   "metadata": {
    "toc": true
   },
   "source": [
    "<h1>Table of Contents<span class=\"tocSkip\"></span></h1>\n",
    "<div class=\"toc\"><ul class=\"toc-item\"><li><span><a href=\"#一个简单的例子\" data-toc-modified-id=\"一个简单的例子-1\"><span class=\"toc-item-num\">1&nbsp;&nbsp;</span>一个简单的例子</a></span></li><li><span><a href=\"#非标量变量的反向传播\" data-toc-modified-id=\"非标量变量的反向传播-2\"><span class=\"toc-item-num\">2&nbsp;&nbsp;</span>非标量变量的反向传播</a></span></li><li><span><a href=\"#分离计算\" data-toc-modified-id=\"分离计算-3\"><span class=\"toc-item-num\">3&nbsp;&nbsp;</span>分离计算</a></span></li><li><span><a href=\"#Python控制流的梯度计算\" data-toc-modified-id=\"Python控制流的梯度计算-4\"><span class=\"toc-item-num\">4&nbsp;&nbsp;</span>Python控制流的梯度计算</a></span></li></ul></div>"
   ]
  },
  {
   "cell_type": "markdown",
   "id": "f589a571",
   "metadata": {},
   "source": [
    "求导是⼏乎所有深度学习优化算法的关键步骤。虽然求导的计算很简单，只需要⼀些基本的微积分。但对于复杂的模型，⼿⼯进⾏更新是⼀件很痛苦的事情（⽽且经常容易出错）。\n",
    "\n",
    "深度学习框架通过⾃动计算导数，即⾃动微分（automatic differentiation）来加快求导。实际中，根据设计好的模型，系统会构建⼀个计算图（computational graph），来跟踪计算是哪些数据通过哪些操作组合起来产⽣输出。⾃动微分使系统能够随后反向传播梯度。这⾥，反向传播（backpropagate）意味着跟踪整个计算图，填充关于每个参数的偏导数。\n",
    "\n",
    "### 一个简单的例子\n",
    "\n",
    "作为⼀个演⽰例⼦，假设我们想对函数$y=2\\textbf{x}^\\top\\textbf{x}$关于列向量$\\textbf{x}$求导。⾸先，我们创建变量x并为其分配⼀个初始值。"
   ]
  },
  {
   "cell_type": "code",
   "execution_count": 1,
   "id": "4827441d",
   "metadata": {},
   "outputs": [
    {
     "data": {
      "text/plain": [
       "tensor([0., 1., 2., 3.])"
      ]
     },
     "execution_count": 1,
     "metadata": {},
     "output_type": "execute_result"
    }
   ],
   "source": [
    "import torch\n",
    "\n",
    "x = torch.arange(4.0)\n",
    "x"
   ]
  },
  {
   "cell_type": "markdown",
   "id": "c3f65165",
   "metadata": {},
   "source": [
    "在我们计算y关于$\\textbf{x}$的梯度之前，需要⼀个地⽅来存储梯度。重要的是，我们不会在每次对⼀个参数求导时都分配新的内存。因为我们经常会成千上万次地更新相同的参数，每次都分配新的内存可能很快就会将内存耗尽。注意，**⼀个标量函数关于向量$\\textbf{x}$的梯度是向量，并且与$\\textbf{x}$具有相同的形状**。"
   ]
  },
  {
   "cell_type": "code",
   "execution_count": 2,
   "id": "94da7df6",
   "metadata": {},
   "outputs": [],
   "source": [
    "x.requires_grad_(True) # 等价x = torch.arange(4.0, requires_grad=True)\n",
    "x.grad # 默认值是None"
   ]
  },
  {
   "cell_type": "markdown",
   "id": "5cce7ab2",
   "metadata": {},
   "source": [
    "现在计算$y$。"
   ]
  },
  {
   "cell_type": "code",
   "execution_count": 3,
   "id": "1b5b05d9",
   "metadata": {},
   "outputs": [
    {
     "data": {
      "text/plain": [
       "tensor(28., grad_fn=<MulBackward0>)"
      ]
     },
     "execution_count": 3,
     "metadata": {},
     "output_type": "execute_result"
    }
   ],
   "source": [
    "y = 2 * torch.dot(x, x)\n",
    "y"
   ]
  },
  {
   "cell_type": "markdown",
   "id": "c2631f96",
   "metadata": {},
   "source": [
    "x是⼀个⻓度为4的向量，计算x和x的点积，得到了我们赋值给y的标量输出。接下来，通过调⽤反向传播函数来⾃动计算y关于x每个分量的梯度，并打印这些梯度。"
   ]
  },
  {
   "cell_type": "code",
   "execution_count": 4,
   "id": "a8f2e1b7",
   "metadata": {},
   "outputs": [
    {
     "data": {
      "text/plain": [
       "tensor([ 0.,  4.,  8., 12.])"
      ]
     },
     "execution_count": 4,
     "metadata": {},
     "output_type": "execute_result"
    }
   ],
   "source": [
    "y.backward()\n",
    "x.grad"
   ]
  },
  {
   "cell_type": "markdown",
   "id": "b0697e14",
   "metadata": {},
   "source": [
    "函数$y=2\\textbf{x}^\\top\\textbf{x}$关于$\\textbf{x}$的梯度应为$4\\textbf{x}$。让我们快速验证这个梯度是否计算正确。"
   ]
  },
  {
   "cell_type": "code",
   "execution_count": 5,
   "id": "8bf539a5",
   "metadata": {},
   "outputs": [
    {
     "data": {
      "text/plain": [
       "tensor([True, True, True, True])"
      ]
     },
     "execution_count": 5,
     "metadata": {},
     "output_type": "execute_result"
    }
   ],
   "source": [
    "x.grad == 4 * x"
   ]
  },
  {
   "cell_type": "markdown",
   "id": "379f56eb",
   "metadata": {},
   "source": [
    "现在计算x的另⼀个函数。"
   ]
  },
  {
   "cell_type": "code",
   "execution_count": 6,
   "id": "39560b44",
   "metadata": {},
   "outputs": [
    {
     "data": {
      "text/plain": [
       "tensor([1., 1., 1., 1.])"
      ]
     },
     "execution_count": 6,
     "metadata": {},
     "output_type": "execute_result"
    }
   ],
   "source": [
    "# 在默认情况下，PyTorch会累积梯度，我们需要清除之前的值\n",
    "x.grad.zero_()\n",
    "y = x.sum()\n",
    "y.backward()\n",
    "x.grad"
   ]
  },
  {
   "cell_type": "markdown",
   "id": "5983d7ce",
   "metadata": {},
   "source": [
    "### 非标量变量的反向传播\n",
    "\n",
    "当y不是标量时，向量y关于向量x的导数的最⾃然解释是⼀个矩阵。对于⾼阶和⾼维的y和x，求导的结果可以是⼀个⾼阶张量。\n",
    "\n",
    "然⽽，虽然这些更奇特的对象确实出现在⾼级机器学习中（包括深度学习中），但当调⽤向量的反向计算时，我们通常会试图计算⼀批训练样本中每个组成部分的损失函数的导数。这⾥，我们的⽬的不是计算微分矩阵，⽽是单独计算批量中每个样本的偏导数之和。"
   ]
  },
  {
   "cell_type": "code",
   "execution_count": 7,
   "id": "606f6144",
   "metadata": {},
   "outputs": [
    {
     "data": {
      "text/plain": [
       "tensor([0., 2., 4., 6.])"
      ]
     },
     "execution_count": 7,
     "metadata": {},
     "output_type": "execute_result"
    }
   ],
   "source": [
    "# 对⾮标量调⽤backward需要传⼊⼀个gradient参数，该参数指定微分函数关于self的梯度。 \n",
    "# 本例只想求偏导数的和，所以传递⼀个1的梯度是合适的\n",
    "x.grad.zero_()\n",
    "y = x * x\n",
    "# 等价于y.backward(torch.ones(len(x)))\n",
    "y.sum().backward()\n",
    "x.grad"
   ]
  },
  {
   "cell_type": "markdown",
   "id": "4e8fb56e",
   "metadata": {},
   "source": [
    "### 分离计算\n",
    "\n",
    "有时，我们希望将某些计算移动到记录的计算图之外。例如，假设y是作为x的函数计算的，⽽z则是作为y和x的函数计算的。想象⼀下，我们想计算z关于x的梯度，但由于某种原因，希望将y视为⼀个常数，并且只考虑到x在y被计算后发挥的作⽤。\n",
    "\n",
    "这⾥可以分离y来返回⼀个新变量u，该变量与y具有相同的值，但丢弃计算图中如何计算y的任何信息。换句话说，梯度不会向后流经u到x。因此，下⾯的反向传播函数计算$z=u*x$关于x的偏导数，同时将u作为常数处理，⽽不是$z=x*x*x$关于x的偏导数。"
   ]
  },
  {
   "cell_type": "code",
   "execution_count": 8,
   "id": "b028d117",
   "metadata": {},
   "outputs": [
    {
     "data": {
      "text/plain": [
       "tensor([True, True, True, True])"
      ]
     },
     "execution_count": 8,
     "metadata": {},
     "output_type": "execute_result"
    }
   ],
   "source": [
    "x.grad.zero_()\n",
    "y = x * x\n",
    "u = y.detach()\n",
    "z = u * x\n",
    "\n",
    "z.sum().backward()\n",
    "x.grad == u"
   ]
  },
  {
   "cell_type": "markdown",
   "id": "e54fe315",
   "metadata": {},
   "source": [
    "由于记录了y的计算结果，我们可以随后在y上调⽤反向传播，得到$y=x*x$关于的x的导数，即$2*x$。"
   ]
  },
  {
   "cell_type": "code",
   "execution_count": 9,
   "id": "c39b2da0",
   "metadata": {},
   "outputs": [
    {
     "data": {
      "text/plain": [
       "tensor([True, True, True, True])"
      ]
     },
     "execution_count": 9,
     "metadata": {},
     "output_type": "execute_result"
    }
   ],
   "source": [
    "x.grad.zero_()\n",
    "y.sum().backward()\n",
    "x.grad == 2 * x"
   ]
  },
  {
   "cell_type": "markdown",
   "id": "9239f55c",
   "metadata": {},
   "source": [
    "### Python控制流的梯度计算\n",
    "\n",
    "使⽤⾃动微分的⼀个好处是：即使构建函数的计算图需要通过Python控制流（例如，条件、循环或任意函数调⽤），我们仍然可以计算得到的变量的梯度。在下⾯的代码中，while循环的迭代次数和if语句的结果都取决于输⼊a的值。"
   ]
  },
  {
   "cell_type": "code",
   "execution_count": 10,
   "id": "ea72dfb2",
   "metadata": {},
   "outputs": [],
   "source": [
    "def f(a):\n",
    "    b = a * 2\n",
    "    while b.norm() < 1000:\n",
    "        b = b * 2\n",
    "    if b.sum() > 0:\n",
    "        c = b\n",
    "    else:\n",
    "        c = 100 * b\n",
    "    return c"
   ]
  },
  {
   "cell_type": "markdown",
   "id": "bd2d171c",
   "metadata": {},
   "source": [
    "计算梯度："
   ]
  },
  {
   "cell_type": "code",
   "execution_count": 11,
   "id": "2d56d4d0",
   "metadata": {},
   "outputs": [],
   "source": [
    "a = torch.randn(size=(), requires_grad=True)\n",
    "d = f(a)\n",
    "d.backward()"
   ]
  },
  {
   "cell_type": "markdown",
   "id": "a43339e9",
   "metadata": {},
   "source": [
    "我们现在可以分析上⾯定义的$f$函数。请注意，它在其输⼊a中是分段线性的。换⾔之，对于任何a，存在某个常量标量k，使得$f(a)=k*a$，其中k的值取决于输⼊a，因此可以⽤d/a验证梯度是否正确。"
   ]
  },
  {
   "cell_type": "code",
   "execution_count": 12,
   "id": "9333210b",
   "metadata": {},
   "outputs": [
    {
     "data": {
      "text/plain": [
       "tensor(True)"
      ]
     },
     "execution_count": 12,
     "metadata": {},
     "output_type": "execute_result"
    }
   ],
   "source": [
    "a.grad == d / a"
   ]
  }
 ],
 "metadata": {
  "kernelspec": {
   "display_name": "Python 3",
   "language": "python",
   "name": "python3"
  },
  "language_info": {
   "codemirror_mode": {
    "name": "ipython",
    "version": 3
   },
   "file_extension": ".py",
   "mimetype": "text/x-python",
   "name": "python",
   "nbconvert_exporter": "python",
   "pygments_lexer": "ipython3",
   "version": "3.8.1"
  },
  "toc": {
   "base_numbering": 1,
   "nav_menu": {},
   "number_sections": true,
   "sideBar": true,
   "skip_h1_title": true,
   "title_cell": "Table of Contents",
   "title_sidebar": "Contents",
   "toc_cell": true,
   "toc_position": {},
   "toc_section_display": true,
   "toc_window_display": false
  },
  "varInspector": {
   "cols": {
    "lenName": 16,
    "lenType": 16,
    "lenVar": 40
   },
   "kernels_config": {
    "python": {
     "delete_cmd_postfix": "",
     "delete_cmd_prefix": "del ",
     "library": "var_list.py",
     "varRefreshCmd": "print(var_dic_list())"
    },
    "r": {
     "delete_cmd_postfix": ") ",
     "delete_cmd_prefix": "rm(",
     "library": "var_list.r",
     "varRefreshCmd": "cat(var_dic_list()) "
    }
   },
   "types_to_exclude": [
    "module",
    "function",
    "builtin_function_or_method",
    "instance",
    "_Feature"
   ],
   "window_display": false
  }
 },
 "nbformat": 4,
 "nbformat_minor": 5
}
